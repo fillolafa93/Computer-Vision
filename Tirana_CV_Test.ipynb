{
  "nbformat": 4,
  "nbformat_minor": 0,
  "metadata": {
    "colab": {
      "provenance": [],
      "include_colab_link": true
    },
    "kernelspec": {
      "name": "python3",
      "display_name": "Python 3"
    },
    "language_info": {
      "name": "python"
    }
  },
  "cells": [
    {
      "cell_type": "markdown",
      "metadata": {
        "id": "view-in-github",
        "colab_type": "text"
      },
      "source": [
        "<a href=\"https://colab.research.google.com/github/xtianu/docencia/blob/main/UT/Test/Tirana_CV_Test.ipynb\" target=\"_parent\"><img src=\"https://colab.research.google.com/assets/colab-badge.svg\" alt=\"Open In Colab\"/></a>"
      ]
    },
    {
      "cell_type": "markdown",
      "source": [
        "## Computer Vision - Tirana May 2025\n",
        "# Final Evaluation Exercise: Complete the following exercises"
      ],
      "metadata": {
        "id": "DEdtJ88-n29l"
      }
    },
    {
      "cell_type": "markdown",
      "source": [
        "## 1. Load and visualize the 'coins' image from the skimage built-in datasets. Report the size of the image and range of the pixel grayscale levels."
      ],
      "metadata": {
        "id": "dhNR1jtln6nT"
      }
    },
    {
      "cell_type": "code",
      "source": [],
      "metadata": {
        "id": "Ik7FKr8FkYMe"
      },
      "execution_count": null,
      "outputs": []
    },
    {
      "cell_type": "markdown",
      "source": [
        "## 2. Represent the histogram of the image. Explain the peaks of the histogram in terms of regions of the image."
      ],
      "metadata": {
        "id": "EuuFKpLdoBdo"
      }
    },
    {
      "cell_type": "code",
      "source": [],
      "metadata": {
        "id": "Eu3mytqMkaGX"
      },
      "execution_count": null,
      "outputs": []
    },
    {
      "cell_type": "markdown",
      "source": [
        "## 3. Applied noise to the image and use the correct function to erase the noise."
      ],
      "metadata": {
        "id": "K1uZ-rW4jUga"
      }
    },
    {
      "cell_type": "code",
      "source": [],
      "metadata": {
        "id": "bssU0a4mkbDW"
      },
      "execution_count": null,
      "outputs": []
    },
    {
      "cell_type": "markdown",
      "source": [
        "## 4. Segment the image using a k-means clustering algorithm with k=2 and represent the result"
      ],
      "metadata": {
        "id": "CTXVPMKoozd_"
      }
    },
    {
      "cell_type": "code",
      "source": [],
      "metadata": {
        "id": "T3ExwogPkdKc"
      },
      "execution_count": null,
      "outputs": []
    },
    {
      "cell_type": "markdown",
      "source": [
        "## 5. Label the objects found in the image. Generate a figure with the original image and the labeled image. How many coins are there in the image?"
      ],
      "metadata": {
        "id": "7GJkDgcfo9HG"
      }
    },
    {
      "cell_type": "code",
      "source": [],
      "metadata": {
        "id": "jL6yPU--keLj"
      },
      "execution_count": null,
      "outputs": []
    },
    {
      "cell_type": "markdown",
      "source": [
        "## 6. Extract the area, major axis length and orientation of each coin. Report the average values of the extracted features. Represent a scatterplot of the area vs major axis length.  "
      ],
      "metadata": {
        "id": "QvNy4xpypTU9"
      }
    },
    {
      "cell_type": "code",
      "source": [],
      "metadata": {
        "id": "w21Es-wDkfuT"
      },
      "execution_count": null,
      "outputs": []
    },
    {
      "cell_type": "markdown",
      "source": [
        "## 7. Using the labeled regions from the 'coins' image, how can I filter the regions to find those with an area greater than 1750 pixels, count how many such coins there are?"
      ],
      "metadata": {
        "id": "Faq0OhrLqU8O"
      }
    },
    {
      "cell_type": "code",
      "source": [],
      "metadata": {
        "id": "rweOlaQHkhDI"
      },
      "execution_count": null,
      "outputs": []
    },
    {
      "cell_type": "markdown",
      "source": [
        "##8. Generate a 3-panel figure with the original image, the image with the little coins < 1750 coins (red color) and an image with the big coins > 1750 (blue color)."
      ],
      "metadata": {
        "id": "rb8KwqUpqj62"
      }
    },
    {
      "cell_type": "code",
      "source": [],
      "metadata": {
        "id": "jn_t0I9Hk2D8"
      },
      "execution_count": null,
      "outputs": []
    },
    {
      "cell_type": "markdown",
      "source": [
        "## 9. Describe the main steps required to perform  segmentation of an RGB image using an unsupervised clustering algorithm (use other algorithms different than K-Means and compare the results)"
      ],
      "metadata": {
        "id": "u2BhPVzwx2Jv"
      }
    },
    {
      "cell_type": "code",
      "source": [],
      "metadata": {
        "id": "NGHlt0CMklNT"
      },
      "execution_count": null,
      "outputs": []
    },
    {
      "cell_type": "markdown",
      "source": [
        "## 10. Extract the main texture features of this image"
      ],
      "metadata": {
        "id": "ZR7b5quWDmf5"
      }
    },
    {
      "cell_type": "code",
      "source": [],
      "metadata": {
        "id": "zpJ6PQkfkuVc"
      },
      "execution_count": null,
      "outputs": []
    },
    {
      "cell_type": "markdown",
      "source": [
        "## Personal discussion\n",
        "\n",
        "Provide a thoughtful reflection on the Computer Vision course, including your perspective on the knowledge you have acquired and your opinion about the professor. (Thank you very much for your feedback!)"
      ],
      "metadata": {
        "id": "kyhexS3sEtt-"
      }
    },
    {
      "cell_type": "markdown",
      "source": [],
      "metadata": {
        "id": "wQ_Fmlx_kxfx"
      }
    }
  ]
}